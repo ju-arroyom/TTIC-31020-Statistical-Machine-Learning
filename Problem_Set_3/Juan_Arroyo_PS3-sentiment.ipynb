{
 "cells": [
  {
   "cell_type": "code",
   "execution_count": 44,
   "metadata": {
    "collapsed": true
   },
   "outputs": [],
   "source": [
    "from __future__ import absolute_import\n",
    "from __future__ import division\n",
    "from __future__ import print_function\n",
    "\n",
    "from utils import *\n",
    "\n",
    "import numpy as np\n",
    "import cvxopt\n",
    "\n",
    "cvxopt.solvers.options['show_progress'] = False\n",
    "\n",
    "%matplotlib inline"
   ]
  },
  {
   "cell_type": "code",
   "execution_count": 45,
   "metadata": {},
   "outputs": [
    {
     "name": "stdout",
     "output_type": "stream",
     "text": [
      "Feature size:  2049\n"
     ]
    }
   ],
   "source": [
    "\"\"\"\n",
    "Get the preprocessed data:\n",
    "X and y are dicts, has keys train, val and test. keys gives you what word (or pair of words) each dimension corresponds to.\n",
    "\n",
    "You can also get bigram features if you call preprocess(bigram = True)`\n",
    "Another optional argument mincount specifies the frequency cutoff for inclusion of a word/bigram in the\n",
    "dictionary.\n",
    "\n",
    "\"\"\"\n",
    "\n",
    "X, y, keys = preprocess()"
   ]
  },
  {
   "cell_type": "code",
   "execution_count": 46,
   "metadata": {
    "collapsed": true
   },
   "outputs": [],
   "source": [
    "class Kernel(object):\n",
    "    \"\"\"\n",
    "    A class containing all kinds of kernels.\n",
    "    Note: the kernel should work for both input (Matrix, vector) and (vector, vector)\n",
    "    \"\"\"\n",
    "    @staticmethod\n",
    "    def linear():\n",
    "        def f(x, y):\n",
    "            return np.dot(x, y)\n",
    "        return f\n",
    "\n",
    "    @staticmethod\n",
    "    def gaussian(gamma):  # we use the commonly used name, although it's not really a Gaussian\n",
    "        def f(x, y):\n",
    "            exponent = - gamma * np.linalg.norm((x-y).transpose(), 2, 0) ** 2\n",
    "            return np.exp(exponent)\n",
    "        return f\n",
    "\n",
    "    @staticmethod\n",
    "    def _poly(dimension, offset):\n",
    "        def f(x, y):\n",
    "            return (offset + np.dot(x, y)) ** dimension\n",
    "        return f\n",
    "\n",
    "    @staticmethod\n",
    "    def inhomogenous_polynomial(dimension):\n",
    "        return Kernel._poly(dimension=dimension, offset=1.0)\n",
    "\n",
    "    @staticmethod\n",
    "    def homogenous_polynomial(dimension):\n",
    "        return Kernel._poly(dimension=dimension, offset=0.0)\n",
    "\n",
    "    @staticmethod\n",
    "    def hyperbolic_tangent(kappa, c):\n",
    "        def f(x, y):\n",
    "            return np.tanh(kappa * np.dot(x, y) + c)\n",
    "        return f"
   ]
  },
  {
   "cell_type": "code",
   "execution_count": 47,
   "metadata": {
    "collapsed": true
   },
   "outputs": [],
   "source": [
    "class SVM(object):\n",
    "    def __init__(self, kernel, c):\n",
    "        \"\"\"\n",
    "        Build a SVM given kernel function and C\n",
    "\n",
    "        Parameters\n",
    "        ----------\n",
    "        kernel : function\n",
    "            a function takes input (Matrix, vector) or (vector, vector)\n",
    "        c : a scalar\n",
    "            balance term\n",
    "\n",
    "        Returns\n",
    "        -------\n",
    "        \"\"\"\n",
    "        self._kernel = kernel\n",
    "        self._c = c\n",
    "\n",
    "    def fit(self, X, y):\n",
    "        \"\"\"\n",
    "        Fit the model given data X and ground truth label y\n",
    "\n",
    "        Parameters\n",
    "        ----------\n",
    "        X : 2D array\n",
    "            N x d data matrix (row per example)\n",
    "        y : 1D array\n",
    "            class label\n",
    "\n",
    "        Returns\n",
    "        -------\n",
    "        \"\"\"\n",
    "        # Solve the QP problem to get the multipliers\n",
    "        lagrange_multipliers = self._compute_multipliers(X, y)\n",
    "        # Get all the support vectors, support weights and bias\n",
    "        self._construct_predictor(X, y, lagrange_multipliers)\n",
    "    \n",
    "    def predict(self, X):\n",
    "        \"\"\"\n",
    "        Predict the label given data X\n",
    "\n",
    "        Parameters\n",
    "        ----------\n",
    "        X : 2D array\n",
    "            N x d data matrix (row per example)\n",
    "\n",
    "        Returns\n",
    "        -------\n",
    "        y : 1D array\n",
    "            predicted label\n",
    "        \"\"\"\n",
    "        result = np.full(X.shape[0], self._bias) # allocate\n",
    "        \n",
    "        K = self._kernel_matrix(X)\n",
    "        for alpha_i, y_i, k_i in zip(self._weights, self._support_vector_labels, K):\n",
    "            result += alpha_i * y_i * k_i\n",
    "        \n",
    "        return np.sign(result)\n",
    "\n",
    "    def _kernel_matrix(self, X):\n",
    "        \"\"\"\n",
    "        Get the kernel matrix.\n",
    "\n",
    "        Parameters\n",
    "        ----------\n",
    "        X : 2D array\n",
    "            N x d data matrix (row per example)\n",
    "\n",
    "        Returns\n",
    "        -------\n",
    "        K : 2D array\n",
    "            N x N kernel matrix\n",
    "        \"\"\"\n",
    "        N, d = X.shape\n",
    "        K = np.zeros((N, N))\n",
    "        for i, x_i in enumerate(X):\n",
    "            for j, x_j in enumerate(X):\n",
    "                K[i, j] = self._kernel(x_i, x_j)\n",
    "        return K\n",
    "\n",
    "    def _construct_predictor(self, X, y, lagrange_multipliers):\n",
    "        \"\"\"\n",
    "        Given the data, label and the multipliers, extract the support vectors and calculate the bias\n",
    "\n",
    "        Parameters\n",
    "        ----------\n",
    "        X : 2D array\n",
    "            N x d data matrix (row per example)\n",
    "        y : 1D array\n",
    "            class label\n",
    "        lagrange_multipliers: 1D array\n",
    "            the solution of lagrange_multiplier\n",
    "\n",
    "        Fills in relevant variables: model bias and weights (alphas), and details of support vectors\n",
    "        \n",
    "        -------\n",
    "        \"\"\"\n",
    "        support_vector_indices = \\\n",
    "            lagrange_multipliers > 1e-5\n",
    "            \n",
    "        print(\"SV number: \", np.sum(support_vector_indices))\n",
    "\n",
    "        support_multipliers = lagrange_multipliers[support_vector_indices]\n",
    "        support_vectors = X[support_vector_indices]\n",
    "        support_vector_labels = y[support_vector_indices]\n",
    "\n",
    "        \"\"\"\n",
    "        Get the bias term (w_0)\n",
    "        \"\"\"\n",
    "        \n",
    "        K = self._kernel_matrix(support_vectors)\n",
    "        weighted_ys= support_multipliers * support_vector_labels\n",
    "        y_hat = np.dot(weighted_ys, K)\n",
    "        Nm = np.sum(support_vector_indices)\n",
    "        bias = 1/Nm * np.sum((support_vector_labels - y_hat))\n",
    "        self._bias=bias\n",
    "        self._weights=support_multipliers\n",
    "        self._support_vectors=support_vectors\n",
    "        self._support_vector_labels=support_vector_labels\n",
    "\n",
    "    def _compute_multipliers(self, X, y):\n",
    "        \"\"\"\n",
    "        Given the data, label, solve the QP program to get lagrange multiplier.\n",
    "\n",
    "        Parameters\n",
    "        ----------\n",
    "        X : 2D array\n",
    "            N x d data matrix (row per example)\n",
    "        y : 1D array\n",
    "            class label\n",
    "\n",
    "        Returns\n",
    "        lagrange_multipliers: 1D array\n",
    "        -------\n",
    "        \"\"\"\n",
    "        N, d = X.shape\n",
    "\n",
    "        K = self._kernel_matrix(X)\n",
    "        \"\"\"\n",
    "        The standard QP solver formulation:\n",
    "        min 1/2 x^T H x + f^T x\n",
    "        s.t.\n",
    "        Ax <=  a\n",
    "        Bx = b\n",
    "        \"\"\"\n",
    "        H = cvxopt.matrix(np.outer(y, y) * K)\n",
    "        f = cvxopt.matrix(-1 * np.ones(N))\n",
    "        \n",
    "        A_1 = cvxopt.matrix(np.diag(np.ones(N)))\n",
    "        a_1 = cvxopt.matrix(np.ones(N) * self._c)\n",
    "        A_2 = cvxopt.matrix(np.diag(np.ones(N) * -1))\n",
    "        a_2 = cvxopt.matrix(np.zeros(N))\n",
    "        \n",
    "        \n",
    "        A = cvxopt.matrix(np.vstack((A_2, A_1)))\n",
    "        a = cvxopt.matrix(np.vstack((a_2, a_1)))\n",
    "\n",
    "        B = cvxopt.matrix(y, (1, N))\n",
    "        b = cvxopt.matrix(0.0)\n",
    "        \n",
    "        # call the QP solver\n",
    "        solution = cvxopt.solvers.qp(H, f, A, a, B, b)\n",
    "\n",
    "        # Lagrange multipliers (the unknown vector 'x' is our alphas)\n",
    "        return np.ravel(solution['x'])"
   ]
  },
  {
   "cell_type": "markdown",
   "metadata": {},
   "source": [
    "Test the trainer.\n",
    "The following code would generate data which the grounth truth split is x+y = 0.5."
   ]
  },
  {
   "cell_type": "code",
   "execution_count": 5,
   "metadata": {},
   "outputs": [
    {
     "name": "stdout",
     "output_type": "stream",
     "text": [
      "SV number:  6\n"
     ]
    },
    {
     "data": {
      "image/png": "[encoded data removed]",
      "text/plain": [
       "<matplotlib.figure.Figure at 0x112fe4dd8>"
      ]
     },
     "metadata": {},
     "output_type": "display_data"
    }
   ],
   "source": [
    "clf = SVM(Kernel.linear(), 100)\n",
    "test_linear_SVM(clf, 100)"
   ]
  },
  {
   "cell_type": "code",
   "execution_count": 6,
   "metadata": {},
   "outputs": [
    {
     "name": "stdout",
     "output_type": "stream",
     "text": [
      "SV number:  12\n"
     ]
    },
    {
     "data": {
      "image/png": "[encoded data removed]",
      "text/plain": [
       "<matplotlib.figure.Figure at 0x112ff1dd8>"
      ]
     },
     "metadata": {},
     "output_type": "display_data"
    }
   ],
   "source": [
    "clf = SVM(Kernel.gaussian(1), 100)\n",
    "test_rbf_SVM(clf, 100)"
   ]
  },
  {
   "cell_type": "markdown",
   "metadata": {},
   "source": [
    "If you think your code is correct, then we can move to the real problem. Below are some code examples; you will need to fill in some details, and extend these to any experiments you want to run."
   ]
  },
  {
   "cell_type": "code",
   "execution_count": 7,
   "metadata": {
    "collapsed": true
   },
   "outputs": [],
   "source": [
    "def best_model(models):\n",
    "    '''\n",
    "    Returns the key (C) of models dictionary with value (trAcc, valAcc)\n",
    "    of maximum value (valAcc)\n",
    "    '''\n",
    "    key, value = max(models.items(),key=lambda x: x[1][1])\n",
    "    return key, value"
   ]
  },
  {
   "cell_type": "code",
   "execution_count": 8,
   "metadata": {},
   "outputs": [
    {
     "name": "stdout",
     "output_type": "stream",
     "text": [
      "SV number:  0\n",
      "C =  1e-06\n"
     ]
    },
    {
     "name": "stderr",
     "output_type": "stream",
     "text": [
      "/Users/juanarroyo/anaconda3/lib/python3.6/site-packages/ipykernel_launcher.py:114: RuntimeWarning: divide by zero encountered in long_scalars\n",
      "/Users/juanarroyo/anaconda3/lib/python3.6/site-packages/ipykernel_launcher.py:114: RuntimeWarning: invalid value encountered in double_scalars\n"
     ]
    },
    {
     "name": "stdout",
     "output_type": "stream",
     "text": [
      "Acc on train:  0.0\n",
      "Acc on val:  0.0\n"
     ]
    },
    {
     "name": "stderr",
     "output_type": "stream",
     "text": [
      "/Users/juanarroyo/anaconda3/lib/python3.6/site-packages/ipykernel_launcher.py:11: DeprecationWarning: elementwise == comparison failed; this will raise an error in the future.\n",
      "  # This is added back by InteractiveShellApp.init_path()\n"
     ]
    },
    {
     "name": "stdout",
     "output_type": "stream",
     "text": [
      "SV number:  0\n",
      "C =  1e-05\n",
      "Acc on train:  0.0\n",
      "Acc on val:  0.0\n",
      "SV number:  2069\n",
      "C =  0.0001\n",
      "Acc on train:  0.636396396396\n",
      "Acc on val:  0.67\n",
      "SV number:  2083\n",
      "C =  0.001\n",
      "Acc on train:  0.636396396396\n",
      "Acc on val:  0.67\n",
      "SV number:  2090\n",
      "C =  0.01\n",
      "Acc on train:  0.596396396396\n",
      "Acc on val:  0.672\n",
      "SV number:  2090\n",
      "C =  0.1\n",
      "Acc on train:  0.527207207207\n",
      "Acc on val:  0.588\n",
      "SV number:  1732\n",
      "C =  1\n",
      "Acc on train:  0.519279279279\n",
      "Acc on val:  0.618\n",
      "SV number:  1313\n",
      "C =  10\n",
      "Acc on train:  0.569369369369\n",
      "Acc on val:  0.662\n",
      "SV number:  1087\n",
      "C =  100\n",
      "Acc on train:  0.52972972973\n",
      "Acc on val:  0.666\n",
      "SV number:  1025\n",
      "C =  1000\n",
      "Acc on train:  0.536216216216\n",
      "Acc on val:  0.664\n",
      "SV number:  1074\n",
      "C =  10000\n",
      "Acc on train:  0.614414414414\n",
      "Acc on val:  0.654\n"
     ]
    }
   ],
   "source": [
    "models = {}\n",
    "C_RANGE = [0.000001, 0.00001, 0.0001, 0.001, 0.01, 0.1, 1, 10, 100, 1000, 10000]\n",
    "for C in C_RANGE:\n",
    "    clf = SVM(Kernel.linear(), C)\n",
    "    clf.fit(scaleX(X['train']), y['train'].astype('double'))\n",
    "    print(\"C = \", C)\n",
    "    y_hat = clf.predict(scaleX(X['train']))\n",
    "    print(\"Acc on train: \", np.mean(y_hat == y['train']))\n",
    "    y_hat = clf.predict(scaleX(X['val']))\n",
    "    print(\"Acc on val: \", np.mean(y_hat == y['val']))\n",
    "    train_acc = np.mean(y_hat == y['train'])\n",
    "    val_acc = np.mean(y_hat == y['val'])\n",
    "    models[C] = (train_acc, val_acc)\n",
    "    "
   ]
  },
  {
   "cell_type": "code",
   "execution_count": 9,
   "metadata": {},
   "outputs": [
    {
     "name": "stdout",
     "output_type": "stream",
     "text": [
      "(0.01, (0.0, 0.67200000000000004))\n"
     ]
    }
   ],
   "source": [
    "best = best_model(models)\n",
    "print(best)\n",
    "best_C = best[0]"
   ]
  },
  {
   "cell_type": "markdown",
   "metadata": {},
   "source": [
    "Choose the best C, and predict the label for test data."
   ]
  },
  {
   "cell_type": "code",
   "execution_count": 10,
   "metadata": {},
   "outputs": [
    {
     "name": "stdout",
     "output_type": "stream",
     "text": [
      "SV number:  2052\n"
     ]
    }
   ],
   "source": [
    "C = best_C\n",
    "clf = SVM(Kernel.linear(), C)\n",
    "clf.fit(scaleX(X['train']), y['train'].astype('double'))\n",
    "y_hat = clf.predict(scaleX(X['test']))\n",
    "save_submission('sub_linear.csv', y_hat)\n"
   ]
  },
  {
   "cell_type": "code",
   "execution_count": 11,
   "metadata": {},
   "outputs": [
    {
     "name": "stdout",
     "output_type": "stream",
     "text": [
      "SV number:  63\n"
     ]
    },
    {
     "data": {
      "image/png": "[encoded data removed]",
      "text/plain": [
       "<matplotlib.figure.Figure at 0x1130ef860>"
      ]
     },
     "metadata": {},
     "output_type": "display_data"
    }
   ],
   "source": [
    "test_linear_SVM(clf, 100)"
   ]
  },
  {
   "cell_type": "markdown",
   "metadata": {},
   "source": [
    "RBF (Gaussian) kernel SVM"
   ]
  },
  {
   "cell_type": "code",
   "execution_count": 31,
   "metadata": {},
   "outputs": [
    {
     "name": "stdout",
     "output_type": "stream",
     "text": [
      "SV number:  2775\n",
      "C =  0.01\n",
      "gamma =  1e-09\n",
      "Acc on train:  0.636396396396\n",
      "Acc on val:  0.67\n"
     ]
    },
    {
     "name": "stderr",
     "output_type": "stream",
     "text": [
      "/Users/juanarroyo/anaconda3/lib/python3.6/site-packages/ipykernel_launcher.py:15: DeprecationWarning: elementwise == comparison failed; this will raise an error in the future.\n",
      "  from ipykernel import kernelapp as app\n"
     ]
    },
    {
     "name": "stdout",
     "output_type": "stream",
     "text": [
      "SV number:  2775\n",
      "C =  0.01\n",
      "gamma =  1e-05\n",
      "Acc on train:  0.636396396396\n",
      "Acc on val:  0.67\n",
      "SV number:  2104\n",
      "C =  0.01\n",
      "gamma =  0.1\n",
      "Acc on train:  0.636396396396\n",
      "Acc on val:  0.67\n",
      "SV number:  2775\n",
      "C =  0.01\n",
      "gamma =  1000.0\n",
      "Acc on train:  0.636396396396\n",
      "Acc on val:  0.67\n"
     ]
    }
   ],
   "source": [
    "models_rbf = {}\n",
    "C_RANGE = [0.01]\n",
    "GAMMA_RANGE = np.logspace(-9, 3, 4)\n",
    "\n",
    "for C in C_RANGE:\n",
    "    for gamma in GAMMA_RANGE:\n",
    "        clf = SVM(Kernel.gaussian(gamma), C)\n",
    "        clf.fit(scaleX(X['train']), y['train'].astype('double'))\n",
    "        print(\"C = \", C)\n",
    "        print(\"gamma = \", gamma)\n",
    "        y_hat = clf.predict(scaleX(X['train']))\n",
    "        print(\"Acc on train: \", np.mean(y_hat == y['train']))\n",
    "        y_hat = clf.predict(scaleX(X['val']))\n",
    "        print(\"Acc on val: \", np.mean(y_hat == y['val']))\n",
    "        train_acc = np.mean(y_hat == y['train'])\n",
    "        val_acc = np.mean(y_hat == y['val'])\n",
    "        models_rbf[(C,gamma)] = (train_acc, val_acc)\n",
    "        "
   ]
  },
  {
   "cell_type": "code",
   "execution_count": 32,
   "metadata": {},
   "outputs": [
    {
     "name": "stdout",
     "output_type": "stream",
     "text": [
      "((0.01, 1.0000000000000001e-09), (0.0, 0.67000000000000004))\n"
     ]
    }
   ],
   "source": [
    "best_rbf = best_model(models_rbf)\n",
    "print(best_rbf)\n",
    "best_C_rbf, best_gamma  = best_rbf[0]"
   ]
  },
  {
   "cell_type": "code",
   "execution_count": 33,
   "metadata": {},
   "outputs": [
    {
     "name": "stdout",
     "output_type": "stream",
     "text": [
      "SV number:  2775\n"
     ]
    }
   ],
   "source": [
    "clf = SVM(Kernel.gaussian(best_gamma), best_C_rbf)\n",
    "clf.fit(scaleX(X['train']), y['train'].astype('double'))\n",
    "y_hat = clf.predict(scaleX(X['test']))\n",
    "save_submission('sub_rbf.csv', y_hat)\n"
   ]
  },
  {
   "cell_type": "markdown",
   "metadata": {},
   "source": [
    "# Results"
   ]
  },
  {
   "cell_type": "markdown",
   "metadata": {},
   "source": [
    "#### Evaluate a range of values of C (regularization parameter) and the kernel-specific parameter(s) and discuss your findings – how do these values affect the performance of the classifier on training/validation data?\n",
    "\n",
    "The set of C evaluated for linear SVM was {0.000001, 0.00001, 0.0001, 0.001, 0.01, 0.1, 1, 10, 100, 1000, 10000}.\n",
    "\n",
    " - Given that C is an upper bound for the lagrange multipliers, I thought it would be a good idea to explore a wide range of values to get a better sense of any subrange that was better than other.\n",
    "\n",
    "- I also decided to normalize the features with the scaleX function, so that my features have unit length. \n",
    "\n",
    "- For the linear SVM, values of C greater than 1 were worse in terms of the accuracy on the validation set, and values between 0.0001 and 0.01 had a better performance.\n",
    "\n",
    "- The best penalty C for this particular problem on the validation set for the linear SVM is:\n",
    "\n",
    "- Linear: C = 0.01 valAcc = 0.6720\n",
    "\n",
    "- It is interesting to note that this value of C has a relatively bad performance (compared to others) on the accuracy for the training set. Also, we see that as see increases, the accuracy on the validation set is decreasing. The only exception is the extreme value of C = 10000.\n",
    "\n",
    "For non-linear SVM, I decided to use the optimal value for C that I found after my search, and only explore options for gamma. \n",
    "\n",
    "The set of values for gamma were the following {1.00000000e-09,   1.00000000e-05,   1.00000000e-01, 1.00000000e+03}\n",
    "\n",
    "- We can think of gamma as 1/sigma, so small values of gamma imply large values for sigma and large values of gamma imply smaller values for sigma. The above set allowed me to explore the space.\n",
    "\n",
    "- The best penalty C and value of gamma for this problem on the validation set for RBF kerel is:\n",
    "\n",
    "- RBF: C = 0.01, gamma = 1.0000000000000001e-09, valAcc = 0.67\n",
    "\n",
    "\n"
   ]
  },
  {
   "cell_type": "markdown",
   "metadata": {},
   "source": [
    "### Problems combining bigrams and scaling features"
   ]
  },
  {
   "cell_type": "markdown",
   "metadata": {},
   "source": [
    "As part of the exploration process, I used bygrams for the linear SVM, but I was not able to do both bygrams and scaling in the same problem (I'm not sure why this is the case) and I got the following results:"
   ]
  },
  {
   "cell_type": "code",
   "execution_count": 49,
   "metadata": {},
   "outputs": [
    {
     "name": "stdout",
     "output_type": "stream",
     "text": [
      "SV number:  0\n",
      "C =  1e-05\n"
     ]
    },
    {
     "name": "stderr",
     "output_type": "stream",
     "text": [
      "/Users/juanarroyo/anaconda3/lib/python3.6/site-packages/ipykernel_launcher.py:114: RuntimeWarning: divide by zero encountered in long_scalars\n",
      "/Users/juanarroyo/anaconda3/lib/python3.6/site-packages/ipykernel_launcher.py:114: RuntimeWarning: invalid value encountered in double_scalars\n"
     ]
    },
    {
     "name": "stdout",
     "output_type": "stream",
     "text": [
      "Acc on train:  0.0\n",
      "Acc on val:  0.0\n"
     ]
    },
    {
     "name": "stderr",
     "output_type": "stream",
     "text": [
      "/Users/juanarroyo/anaconda3/lib/python3.6/site-packages/ipykernel_launcher.py:11: DeprecationWarning: elementwise == comparison failed; this will raise an error in the future.\n",
      "  # This is added back by InteractiveShellApp.init_path()\n"
     ]
    },
    {
     "name": "stdout",
     "output_type": "stream",
     "text": [
      "SV number:  2775\n",
      "C =  0.0001\n",
      "Acc on train:  0.636396396396\n",
      "Acc on val:  0.67\n",
      "SV number:  2775\n",
      "C =  0.001\n",
      "Acc on train:  0.636396396396\n",
      "Acc on val:  0.67\n",
      "SV number:  2775\n",
      "C =  0.01\n",
      "Acc on train:  0.636396396396\n",
      "Acc on val:  0.67\n",
      "SV number:  2775\n",
      "C =  0.1\n",
      "Acc on train:  0.636396396396\n",
      "Acc on val:  0.67\n"
     ]
    }
   ],
   "source": [
    "models_bi = {}\n",
    "C_RANGE = [0.00001, 0.0001, 0.001, 0.01, 0.1]\n",
    "for C in C_RANGE:\n",
    "    clf = SVM(Kernel.linear(), C)\n",
    "    clf.fit(X['train'], y['train'].astype('double'))\n",
    "    print(\"C = \", C)\n",
    "    y_hat = clf.predict(X['train'])\n",
    "    print(\"Acc on train: \", np.mean(y_hat == y['train']))\n",
    "    y_hat = clf.predict(X['val'])\n",
    "    print(\"Acc on val: \", np.mean(y_hat == y['val']))\n",
    "    train_acc = np.mean(y_hat == y['train'])\n",
    "    val_acc = np.mean(y_hat == y['val'])\n",
    "    models_bi[C] = (train_acc, val_acc)"
   ]
  },
  {
   "cell_type": "code",
   "execution_count": 50,
   "metadata": {},
   "outputs": [
    {
     "data": {
      "text/plain": [
       "(0.0001, (0.0, 0.67000000000000004))"
      ]
     },
     "execution_count": 50,
     "metadata": {},
     "output_type": "execute_result"
    }
   ],
   "source": [
    "best_model(models_bi)"
   ]
  },
  {
   "cell_type": "markdown",
   "metadata": {},
   "source": [
    "With this subset of values for C, we observe that the accuracy on the validation set was not better than the one we got from scaling X. The only thing that is puzzling is that the trainig accuracy seems to remain constant."
   ]
  },
  {
   "cell_type": "markdown",
   "metadata": {},
   "source": [
    "### Run at least one non-linear SVM (with some non-linear kernel)"
   ]
  },
  {
   "cell_type": "code",
   "execution_count": 51,
   "metadata": {
    "scrolled": true
   },
   "outputs": [
    {
     "name": "stdout",
     "output_type": "stream",
     "text": [
      "C =  1e-05\n",
      "SV number:  0\n"
     ]
    },
    {
     "name": "stderr",
     "output_type": "stream",
     "text": [
      "/Users/juanarroyo/anaconda3/lib/python3.6/site-packages/ipykernel_launcher.py:114: RuntimeWarning: divide by zero encountered in long_scalars\n",
      "/Users/juanarroyo/anaconda3/lib/python3.6/site-packages/ipykernel_launcher.py:114: RuntimeWarning: invalid value encountered in double_scalars\n"
     ]
    },
    {
     "name": "stdout",
     "output_type": "stream",
     "text": [
      "    0.0 0.0\n",
      "C =  0.0001\n",
      "SV number:  2775\n",
      "    0.636396396396 0.67\n",
      "C =  0.001\n",
      "SV number:  2775\n",
      "    0.636396396396 0.67\n",
      "C =  0.01\n",
      "SV number:  2775\n",
      "    0.636396396396 0.67\n",
      "C =  0.1\n",
      "SV number:  2775\n",
      "    0.636396396396 0.33\n"
     ]
    }
   ],
   "source": [
    "new_kernel = Kernel.inhomogenous_polynomial(4)\n",
    "models_ihpoly = {}\n",
    "C_RANGE = [0.00001, 0.0001, 0.001, 0.01, 0.1]\n",
    "for C in C_RANGE:\n",
    "    print(\"C = \", C)\n",
    "    clf = SVM(new_kernel, C)\n",
    "    clf.fit(X['train'], y['train'].astype('double'))\n",
    "    y_hat = clf.predict(X['train'])\n",
    "    train_acc = np.mean(y_hat == y['train'])\n",
    "    y_hat = clf.predict(X['val'])\n",
    "    val_acc = np.mean(y_hat == y['val'])\n",
    "    print(\"   \", train_acc, val_acc)\n",
    "    models_ihpoly[C] = (train_acc, val_acc)"
   ]
  },
  {
   "cell_type": "code",
   "execution_count": 52,
   "metadata": {},
   "outputs": [
    {
     "name": "stdout",
     "output_type": "stream",
     "text": [
      "(0.0001, (0.63639639639639645, 0.67000000000000004))\n"
     ]
    }
   ],
   "source": [
    "best_ihpoly = best_model(models_ihpoly)\n",
    "print(best_ihpoly)\n",
    "best_c_ihpoly = best_ihpoly[0]"
   ]
  },
  {
   "cell_type": "markdown",
   "metadata": {},
   "source": [
    "The last exercise we did this non-linear kernel with a 4th degree polynomial. The results for this model are not better than the ones we got from rbf or the linear kernel."
   ]
  }
 ],
 "metadata": {
  "kernelspec": {
   "display_name": "Python 3",
   "language": "python",
   "name": "python3"
  },
  "language_info": {
   "codemirror_mode": {
    "name": "ipython",
    "version": 3
   },
   "file_extension": ".py",
   "mimetype": "text/x-python",
   "name": "python",
   "nbconvert_exporter": "python",
   "pygments_lexer": "ipython3",
   "version": "3.6.3"
  }
 },
 "nbformat": 4,
 "nbformat_minor": 1
}
